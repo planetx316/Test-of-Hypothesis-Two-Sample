{
 "cells": [
  {
   "cell_type": "code",
   "execution_count": 2,
   "id": "e66ac498",
   "metadata": {},
   "outputs": [],
   "source": [
    "import numpy as np\n",
    "import pandas as pd\n",
    "import matplotlib.pyplot as plt\n",
    "from statsmodels.stats.proportion import proportions_ztest"
   ]
  },
  {
   "cell_type": "markdown",
   "id": "7b71fddb",
   "metadata": {},
   "source": [
    "# Data and Hypothesis\n",
    "\n",
    "The data that we are going to analyze is the Titanic dataset to check if the proportion of women saved and the proportion of men saved were different.\n",
    "\n",
    "So if $p_1$ is the proportion of men in the Titanic saved, and $p_2$ is the proortion of women that were saved. We are testing the following.\n",
    "\n",
    "$H_0:p_1-p_2=0$\n",
    "\n",
    "$H_a:p_1-p_2\\neq 0$\n",
    "\n",
    "Also $\\alpha=0.05$"
   ]
  },
  {
   "cell_type": "code",
   "execution_count": 51,
   "id": "751d3499",
   "metadata": {},
   "outputs": [],
   "source": [
    "data=pd.read_csv('train.csv')\n",
    "data.head()\n",
    "significance=0.05"
   ]
  },
  {
   "cell_type": "markdown",
   "id": "abda8ed0",
   "metadata": {},
   "source": [
    "The total number of observations is n=891"
   ]
  },
  {
   "cell_type": "code",
   "execution_count": 35,
   "id": "94179c3c",
   "metadata": {},
   "outputs": [],
   "source": [
    "data.shape[0]\n",
    "n_1=data[data.Sex=='male'].shape[0]\n",
    "n_2=data[data.Sex=='female'].shape[0]"
   ]
  },
  {
   "cell_type": "markdown",
   "id": "f7fd04ec",
   "metadata": {},
   "source": [
    "$n=891,  n_1=577, n_2=314$"
   ]
  },
  {
   "cell_type": "code",
   "execution_count": 37,
   "id": "ab0100fd",
   "metadata": {},
   "outputs": [],
   "source": [
    "#SQL style subsetting of data to find the number of male survivors\n",
    "male_condition=(\"Sex =='male'\"\"and Survived==1\")\n",
    "female_condition=(\"Sex =='female'\"\"and Survived==1\")"
   ]
  },
  {
   "cell_type": "code",
   "execution_count": 43,
   "id": "ed3867cb",
   "metadata": {},
   "outputs": [],
   "source": [
    "sample_success_a=data.query(male_condition).shape[0]\n",
    "sample_success_b=data.query(female_condition).shape[0]"
   ]
  },
  {
   "cell_type": "code",
   "execution_count": 44,
   "id": "cd0c103a",
   "metadata": {},
   "outputs": [],
   "source": [
    "successes = np.array([sample_success_a, sample_success_b])\n",
    "samples = np.array([n_1, n_2])"
   ]
  },
  {
   "cell_type": "code",
   "execution_count": 45,
   "id": "b10ef39b",
   "metadata": {},
   "outputs": [],
   "source": [
    "stat,p_value=proportions_ztest(count=successes,nobs=samples,alternative='two-sided')"
   ]
  },
  {
   "cell_type": "markdown",
   "id": "7e4a66bc",
   "metadata": {},
   "source": [
    "Let's conclude now."
   ]
  },
  {
   "cell_type": "code",
   "execution_count": 53,
   "id": "3f482018",
   "metadata": {},
   "outputs": [
    {
     "name": "stdout",
     "output_type": "stream",
     "text": [
      "z_stat: -16.219, p_value: 0.000\n",
      "Reject the null hypothesis\n"
     ]
    }
   ],
   "source": [
    "# report\n",
    "print('z_stat: %0.3f, p_value: %0.3f' % (stat, p_value))\n",
    "if p_value > significance:\n",
    "   print (\"Fail to reject the null hypothesis\")\n",
    "else:\n",
    "   print (\"Reject the null hypothesis\")"
   ]
  },
  {
   "cell_type": "code",
   "execution_count": null,
   "id": "6cbc251f",
   "metadata": {},
   "outputs": [],
   "source": []
  }
 ],
 "metadata": {
  "kernelspec": {
   "display_name": "Python 3",
   "language": "python",
   "name": "python3"
  },
  "language_info": {
   "codemirror_mode": {
    "name": "ipython",
    "version": 3
   },
   "file_extension": ".py",
   "mimetype": "text/x-python",
   "name": "python",
   "nbconvert_exporter": "python",
   "pygments_lexer": "ipython3",
   "version": "3.8.8"
  }
 },
 "nbformat": 4,
 "nbformat_minor": 5
}
